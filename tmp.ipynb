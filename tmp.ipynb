{
 "cells": [
  {
   "cell_type": "code",
   "execution_count": 5,
   "metadata": {},
   "outputs": [],
   "source": [
    "import torch\n",
    "from microspike import Network, SRMInhibitory, Synapse, Monitor, PatternGenerator, InputTrain, utils"
   ]
  },
  {
   "cell_type": "code",
   "execution_count": 6,
   "metadata": {},
   "outputs": [],
   "source": [
    "HYPERPARAMETERS_JSON_MODEL = \"model_hyperparameters.json\" \n",
    "HYPERPARAMETERS_JSON_SYNAPSE = \"synapse_hyperparameters.json\"\n",
    "\n",
    "HYPERPARAMETERS_JSON_MODEL = \"D:\\projects\\MicroSpike\\hyperparams_directory\\model_hyperparameters.json\"\n",
    "HYPERPARAMETERS_JSON_SYNAPSE = \"D:\\projects\\MicroSpike\\hyperparams_directory\\synapse_hyperparameters.json\"\n",
    "\n",
    "model_hyperparams = utils.load_hyperparameters(HYPERPARAMETERS_JSON_MODEL)\n",
    "synapse_hyperparams = utils.load_hyperparameters(HYPERPARAMETERS_JSON_SYNAPSE)"
   ]
  },
  {
   "cell_type": "code",
   "execution_count": 7,
   "metadata": {},
   "outputs": [],
   "source": [
    "P = 1\n",
    "N = 1\n",
    "M = 2000\n",
    "time = 450 * 1000 #ms\n",
    "\n",
    "generator = PatternGenerator(number_pattern=P, number_neurons=M,\n",
    "                                total_pattern_freq = 1/3,\n",
    "                                )\n",
    "times, indices, position_copypaste, patterns_info, timing_pattern = generator.generate()\n",
    "\n",
    "\n",
    "weight = utils.w_uniform(M=M, N=N)\n"
   ]
  },
  {
   "cell_type": "code",
   "execution_count": 10,
   "metadata": {},
   "outputs": [],
   "source": [
    "input_train = InputTrain(times, indices)\n",
    "model = SRMInhibitory(N=N,\n",
    "            **model_hyperparams)\n",
    "synapse = Synapse(w=weight,\n",
    "                **synapse_hyperparams)\n",
    "monitor = Monitor(model)\n",
    "net = Network(dt=0.001)\n",
    "net.add_input_train(input_train)\n",
    "net.add_layer(model)\n",
    "net.add_synapse(synapse)\n",
    "\n",
    "net.run(time=time)"
   ]
  },
  {
   "cell_type": "code",
   "execution_count": 11,
   "metadata": {},
   "outputs": [
    {
     "data": {
      "text/plain": [
       "tensor([[  0.0000,   0.0000,  31.2398,  ..., 462.9057, 451.4946, 454.8693]])"
      ]
     },
     "execution_count": 11,
     "metadata": {},
     "output_type": "execute_result"
    }
   ],
   "source": [
    "monitor.potential_rec"
   ]
  },
  {
   "cell_type": "code",
   "execution_count": null,
   "metadata": {},
   "outputs": [],
   "source": []
  }
 ],
 "metadata": {
  "kernelspec": {
   "display_name": "Python 3",
   "language": "python",
   "name": "python3"
  },
  "language_info": {
   "codemirror_mode": {
    "name": "ipython",
    "version": 3
   },
   "file_extension": ".py",
   "mimetype": "text/x-python",
   "name": "python",
   "nbconvert_exporter": "python",
   "pygments_lexer": "ipython3",
   "version": "3.10.8"
  }
 },
 "nbformat": 4,
 "nbformat_minor": 2
}
