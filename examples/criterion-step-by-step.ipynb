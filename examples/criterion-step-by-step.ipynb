{
 "cells": [
  {
   "cell_type": "code",
   "execution_count": 1,
   "metadata": {},
   "outputs": [],
   "source": [
    "from microspike.criterion import get_pattern_repetition_number_and_spike_statistics, check_neuron_status\n",
    "from microspike.utils import investigate_potential, generate_data_train_model, save_all_data, load_all_data\n",
    "\n",
    "import ipywidgets as widgets\n",
    "from IPython.display import display"
   ]
  },
  {
   "cell_type": "markdown",
   "metadata": {},
   "source": [
    "- Here the neuron numbers start from 1 to N\n",
    "- Pattern numbers start from 1 to P\n",
    "- neuron indices start from 0 to N-1\n",
    "- pattern indices start from 0 to P-1\n"
   ]
  },
  {
   "cell_type": "markdown",
   "metadata": {},
   "source": [
    "## Generate data and train the model "
   ]
  },
  {
   "cell_type": "code",
   "execution_count": 2,
   "metadata": {},
   "outputs": [
    {
     "name": "stdout",
     "output_type": "stream",
     "text": [
      "B factor is:\n",
      "1.7050595238095239\n"
     ]
    }
   ],
   "source": [
    "# SRM Hyperparamters\n",
    "inhibitory_connection=True\n",
    "threshold = 500\n",
    "reset = 0\n",
    "refractory = 1\n",
    "alpha = 0.25\n",
    "k = 1\n",
    "tau_m = 0.010\n",
    "tau_s = 0.0025\n",
    "K1 = 2\n",
    "K2 = 4\n",
    "window_time= 7 * 0.010, # Maximum time [second] to ignore inputs before it by kernels \n",
    "train_mode= True\n",
    "\n",
    "# Synapse Hyperparameters\n",
    "approximate = True\n",
    "w_max = 1\n",
    "w_min = 0\n",
    "A_pre = 0.03125\n",
    "B = 0.85\n",
    "A_post = - A_pre * B\n",
    "tau_pre=0.0168\n",
    "tau_post=0.0337\n",
    "\n",
    "print('B factor is:')\n",
    "print(-A_post*tau_post/(A_pre*tau_pre))\n",
    "\n",
    "\n",
    "P = 3\n",
    "N = 9\n",
    "M = 2000\n",
    "time = 450 * 1000\n"
   ]
  },
  {
   "cell_type": "markdown",
   "metadata": {},
   "source": [
    "## Define criterion"
   ]
  },
  {
   "cell_type": "code",
   "execution_count": 3,
   "metadata": {},
   "outputs": [],
   "source": [
    "# input_train, model, synapse, monitor, times, indices, position_copypaste, patterns_info, timing_pattern = generate_data_train_model(P, N, M, time, w_max, w_min, A_pre, A_post, tau_pre, tau_post, approximate,\n",
    "#                               threshold, reset, refractory, alpha, k, tau_m, tau_s, K1, K2, window_time,\n",
    "#                               inhibitory_connection)\n",
    "# save_all_data(input_train, model, synapse, monitor, times, indices,\n",
    "#               position_copypaste, patterns_info, timing_pattern, 'simulation_data.pkl')\n",
    "\n",
    "loaded_input_train, loaded_model, loaded_synapse, loaded_monitor, \\\n",
    "loaded_times, loaded_indices, loaded_position_copypaste, loaded_patterns_info, \\\n",
    "loaded_timing_pattern = load_all_data('simulation_data.pkl')\n",
    "\n",
    "\n",
    "hit_rate_threshold = 0.90\n",
    "false_alarm_rate_threshold = 1 # Hz\n",
    "\n",
    "pattern_duration = 0.050 # second\n",
    "inference_starting_time = 400 # second\n",
    "inference_ending_time = 450 # second\n",
    "\n",
    "pattern_repetition_number, criterion_info = get_pattern_repetition_number_and_spike_statistics(loaded_monitor, loaded_position_copypaste, inference_starting_time, inference_ending_time, pattern_duration, P)\n",
    "neurons_stats, pattern_stats = check_neuron_status(N, criterion_info, pattern_repetition_number, hit_rate_threshold, false_alarm_rate_threshold, inference_starting_time, inference_ending_time)\n",
    "\n",
    "\n"
   ]
  },
  {
   "cell_type": "code",
   "execution_count": 5,
   "metadata": {},
   "outputs": [],
   "source": [
    "# dt = 0.001\n",
    "# investigate_potential(loaded_monitor, dt, loaded_position_copypaste)"
   ]
  },
  {
   "cell_type": "code",
   "execution_count": 6,
   "metadata": {},
   "outputs": [
    {
     "name": "stdout",
     "output_type": "stream",
     "text": [
      "no_pattern: 668\n",
      "pattern_1: 107\n",
      "pattern_2: 114\n",
      "pattern_3: 111\n",
      "----------\n",
      "neuron 1: [(2, 114)]\n",
      "neuron 2: [('no_pattern', 2)]\n",
      "neuron 3: [(3, 16)]\n",
      "neuron 4: [(3, 111)]\n",
      "neuron 5: [(1, 4)]\n",
      "neuron 6: [(1, 107)]\n",
      "neuron 7: [(3, 95)]\n",
      "neuron 8: [(2, 114)]\n",
      "neuron 9: [(1, 103)]\n"
     ]
    }
   ],
   "source": [
    "for pattern_number, num_repetition in pattern_repetition_number.items():\n",
    "    print(f'{pattern_number}: {num_repetition}')\n",
    "print('-'*10)\n",
    "for i in range(1, N+1):\n",
    "    info = [i for i in criterion_info[f'neuron_{i}'].items()]\n",
    "    print(f'neuron {i}:', info)"
   ]
  },
  {
   "cell_type": "code",
   "execution_count": 7,
   "metadata": {},
   "outputs": [
    {
     "data": {
      "text/plain": [
       "{'neuron_1': NeuronStats(learned_pattern=2, hit_rate=1.0, false_alarm_rate=0.0, status='successful'),\n",
       " 'neuron_2': NeuronStats(learned_pattern=None, hit_rate=None, false_alarm_rate=None, status='dead'),\n",
       " 'neuron_3': NeuronStats(learned_pattern=3, hit_rate=0.14414414414414414, false_alarm_rate=0.0, status='unsuccessful'),\n",
       " 'neuron_4': NeuronStats(learned_pattern=3, hit_rate=1.0, false_alarm_rate=0.0, status='successful'),\n",
       " 'neuron_5': NeuronStats(learned_pattern=1, hit_rate=0.037383177570093455, false_alarm_rate=0.0, status='unsuccessful'),\n",
       " 'neuron_6': NeuronStats(learned_pattern=1, hit_rate=1.0, false_alarm_rate=0.0, status='successful'),\n",
       " 'neuron_7': NeuronStats(learned_pattern=3, hit_rate=0.8558558558558559, false_alarm_rate=0.0, status='unsuccessful'),\n",
       " 'neuron_8': NeuronStats(learned_pattern=2, hit_rate=1.0, false_alarm_rate=0.0, status='successful'),\n",
       " 'neuron_9': NeuronStats(learned_pattern=1, hit_rate=0.9626168224299065, false_alarm_rate=0.0, status='successful')}"
      ]
     },
     "execution_count": 7,
     "metadata": {},
     "output_type": "execute_result"
    }
   ],
   "source": [
    "neurons_stats"
   ]
  },
  {
   "cell_type": "code",
   "execution_count": 8,
   "metadata": {},
   "outputs": [
    {
     "data": {
      "text/plain": [
       "{'pattern_2': 2, 'pattern_3': 1, 'pattern_1': 2}"
      ]
     },
     "execution_count": 8,
     "metadata": {},
     "output_type": "execute_result"
    }
   ],
   "source": [
    "pattern_stats"
   ]
  },
  {
   "cell_type": "markdown",
   "metadata": {},
   "source": [
    "### Criteria \n",
    "\n",
    "- successful: hit rate over 90%, false alarm rate below 1 Hz (false alarm less than 1 per second)\n",
    "- unsuccessful: hit rate less than 90% or false alarm rate higher than 1 Hz\n",
    "- dead: general spike rate less than 1 Hz"
   ]
  },
  {
   "cell_type": "markdown",
   "metadata": {},
   "source": [
    "- if the training of neuron is successful\n",
    "- if the training of the entire network is successful\n",
    "    - each pattern is learned by at least one neuron (hit rate over 90%, false alarm less than 1 per second)\n",
    "    for each pattern, we have at least one successful neuron, then the entire network is successful.\n",
    "    - what happens when N > P, P is fixed and N is increasing. N = [100, 75, 50, 25, 10,]\n",
    "\n",
    "        for N = 50 --> P = [0.1, 0.25, 0.5, 0.75, 1] * N\n",
    "        \n",
    "                        [more dead neurons, ...., less dead neurons]\n",
    "        \n",
    "        for N = 100 --> P = [0.1, 0.25, 0.5, 0.75, 1] * N\n",
    "        \n",
    "                        [more dead neurons, ...., less dead neurons]    \n",
    "    - for each pattern how many neurons have learned the pattern\n",
    "    - record the number of dead neurons, per each set of hyperparameters\n",
    "\n",
    "\n",
    "- Reward modulated. If it can increase the number of successful neurons \n",
    "    - digit recognition task MNIST dataset using anti STDP (reverse).\n",
    "    - objective is to have the same number of neurons and patterns. (no dead neurons and no neurons responding to the same pattern). one pattern for one neuron only.\n",
    "    - we give negative reward when a neuron fires during another pattern. Anti STDP.\n",
    "    - we do normal STDP when the neuron fires during its own pattern and during no-pattern.\n",
    "    - we do not implement inhibitory connections and replace their role with R-STDP. \n",
    "    - Also do R-STDP and inhibitory connections together and compare the results.\n",
    "\n",
    "    - based on the results we can modify the rule. \n",
    "\n",
    "- introduce a new pattern to the network during inference time.\n",
    "    - do this the last. use the results of the previous ones and then plan this one. we can use R-STDP in this step too."
   ]
  },
  {
   "cell_type": "markdown",
   "metadata": {},
   "source": []
  }
 ],
 "metadata": {
  "kernelspec": {
   "display_name": "venv",
   "language": "python",
   "name": "python3"
  },
  "language_info": {
   "codemirror_mode": {
    "name": "ipython",
    "version": 3
   },
   "file_extension": ".py",
   "mimetype": "text/x-python",
   "name": "python",
   "nbconvert_exporter": "python",
   "pygments_lexer": "ipython3",
   "version": "3.10.8"
  }
 },
 "nbformat": 4,
 "nbformat_minor": 2
}
